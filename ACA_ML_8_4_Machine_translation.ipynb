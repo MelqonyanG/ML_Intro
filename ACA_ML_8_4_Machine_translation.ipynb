{
  "nbformat": 4,
  "nbformat_minor": 0,
  "metadata": {
    "colab": {
      "name": "ACA ML 8.4 - Machine translation.ipynb",
      "provenance": [],
      "collapsed_sections": [],
      "toc_visible": true,
      "include_colab_link": true
    },
    "kernelspec": {
      "name": "python3",
      "display_name": "Python 3"
    },
    "language_info": {
      "name": "python"
    }
  },
  "cells": [
    {
      "cell_type": "markdown",
      "metadata": {
        "id": "view-in-github",
        "colab_type": "text"
      },
      "source": [
        "<a href=\"https://colab.research.google.com/github/MelqonyanG/ML_Intro/blob/master/ACA_ML_8_4_Machine_translation.ipynb\" target=\"_parent\"><img src=\"https://colab.research.google.com/assets/colab-badge.svg\" alt=\"Open In Colab\"/></a>"
      ]
    },
    {
      "cell_type": "markdown",
      "metadata": {
        "id": "HcMhizZjX087"
      },
      "source": [
        "# ACA ML 8.4 - Machine translation"
      ]
    },
    {
      "cell_type": "markdown",
      "metadata": {
        "id": "nldAUL7JX93T"
      },
      "source": [
        "This notebook is part of the [Machine Learning Course](https://aca.am/en/machine-learning/) at Armenian Code Academy, and accompanies lectures slides and lectures nots for the 2-week block on NLP. This notebook supplements the lecture on machine translation, focusing on a couple of practical aspects such as how to perform beam search (important for the decoding stage of the translation model).\n",
        "\n",
        "Created: March 28, 2021 | Last major update: March 28, 2021\n",
        "\n",
        "Author: [Vahe Tshitoyan](https://vtshitoyan.github.io) (please reach out with any questions or suggestions)"
      ]
    },
    {
      "cell_type": "markdown",
      "metadata": {
        "id": "Gz_cXt7m9qhR"
      },
      "source": [
        "**A comprehensive tutorial can be found [here](https://colab.research.google.com/github/tensorflow/docs/blob/master/site/en/tutorials/text/nmt_with_attention.ipynb?authuser=1) for a detailed example of using Attention for machine translation.**"
      ]
    },
    {
      "cell_type": "code",
      "metadata": {
        "id": "i6W-mdH3oi5q"
      },
      "source": [
        "import numpy as np\n",
        "import tensorflow as tf"
      ],
      "execution_count": null,
      "outputs": []
    },
    {
      "cell_type": "markdown",
      "metadata": {
        "id": "4jOcCw17_e68"
      },
      "source": [
        "## Beam search"
      ]
    },
    {
      "cell_type": "code",
      "metadata": {
        "id": "9mhmkrBClnKq"
      },
      "source": [
        "# Load the model and the vocabulary (see Lecture 8.3 on how to train the model).\n",
        "model = tf.keras.models.load_model('arm_rnn_language_model.h5')\n",
        "with open('idx2word.txt', 'r', encoding='utf-8') as idx2word_file:\n",
        "  idx2word = [w.strip() for w in idx2word_file.readlines()]\n",
        "word2idx = {w: i for i, w in enumerate(idx2word)}"
      ],
      "execution_count": null,
      "outputs": []
    },
    {
      "cell_type": "code",
      "metadata": {
        "id": "WQwWGiisomwq"
      },
      "source": [
        "def generate_text(input_sentence, nr_extra_words, method='sample'):\n",
        "  \"\"\"Generates text either by sampling or using a greedy approach (argmax).\"\"\"\n",
        "  # Converts words to their indexes in the vocabulary.\n",
        "  encoded_input = [word2idx[w] if w in word2idx else 1 for w in input_sentence]\n",
        "  for _ in range(nr_extra_words):\n",
        "    next_word_distribution = model.predict([encoded_input])[0]\n",
        "    if method == 'sample':\n",
        "      next_word = np.random.choice(\n",
        "          range(len(idx2word)), \n",
        "          p=next_word_distribution)\n",
        "    elif method == 'greedy':\n",
        "      next_word = np.argsort(next_word_distribution)[-1]\n",
        "    else:\n",
        "      raise ValueError(\n",
        "          f'Unsupported method {method}. Use \"greedy\" or \"sample\".')\n",
        "    # Add the new word to the sequence to continue generating text.\n",
        "    encoded_input.append(next_word)\n",
        "  return [idx2word[encoded_word] for encoded_word in encoded_input]"
      ],
      "execution_count": null,
      "outputs": []
    },
    {
      "cell_type": "code",
      "metadata": {
        "id": "zb4fkQ5IsSbw"
      },
      "source": [
        "def generate_text_beam_search(input_sentence, nr_extra_words, beam_k=10):\n",
        "  \"\"\"Generates text using beam search.\"\"\"\n",
        "  initial_length = len(input_sentence)\n",
        "  encoded_input = [word2idx[w] if w in word2idx else 1 for w in input_sentence]\n",
        "  candidates = [(encoded_input, 0)]\n",
        "  for _ in range(nr_extra_words):\n",
        "    new_candidates = []\n",
        "    for candidate, score in candidates:\n",
        "      next_word_distribution = model.predict([candidate])[0]\n",
        "      top_k_words = np.argsort(next_word_distribution)[-beam_k:]\n",
        "      top_k_scores = np.log(next_word_distribution[top_k_words])\n",
        "      for w, s in zip(top_k_words, top_k_scores):\n",
        "        new_candidates.append((candidate + [w], score + s))\n",
        "    candidates = sorted(new_candidates, key=lambda x: x[1])[-beam_k:]\n",
        "  return [idx2word[encoded_word] for encoded_word in candidates[-1][0]]"
      ],
      "execution_count": null,
      "outputs": []
    },
    {
      "cell_type": "code",
      "metadata": {
        "colab": {
          "base_uri": "https://localhost:8080/",
          "height": 69
        },
        "id": "dXhmeHUOoqJU",
        "outputId": "4595329f-b69d-40f3-9d17-b83093a6b091"
      },
      "source": [
        "' '.join(generate_text(['ՀՀ'], 50, 'sample'))"
      ],
      "execution_count": null,
      "outputs": [
        {
          "output_type": "execute_result",
          "data": {
            "application/vnd.google.colaboratory.intrinsic+json": {
              "type": "string"
            },
            "text/plain": [
              "'ՀՀ Լին դեմ էին հետո աշխատել , որոնք է , երբ սակրավորները ստեղծված , միայն փոխհատուցվում եւ պայմանների համար ։ Նախնական 1,5 հետոյի գործով ինքնությունը չպարզած ֆաունայի գտածոյի որոշումից մեկի ընկեր , ԱԺ-ին զգուշացրել է ։ Այն բերել ՔԿՀ-ի կալանավորվածներին պահելու վայրի խցերում արձանագրվել են ՀՀ ԱՆ քրեակատարողական վերահսկողության ծառայության պետ'"
            ]
          },
          "metadata": {
            "tags": []
          },
          "execution_count": 5
        }
      ]
    },
    {
      "cell_type": "code",
      "metadata": {
        "colab": {
          "base_uri": "https://localhost:8080/",
          "height": 69
        },
        "id": "MQ1ij56Tq8bD",
        "outputId": "7473a4dd-836a-4e86-9407-9ae9b0451488"
      },
      "source": [
        "' '.join(generate_text(['ՀՀ'], 50, 'greedy'))"
      ],
      "execution_count": null,
      "outputs": [
        {
          "output_type": "execute_result",
          "data": {
            "application/vnd.google.colaboratory.intrinsic+json": {
              "type": "string"
            },
            "text/plain": [
              "'ՀՀ գլխավոր դատախազության վերոնշյալ վարչության պետը անցել են , որ նույն օրը , ժամը , երբ կաթոլիկները , իսկ պահվող անձանց տրամադրվող զբոսանքի ժամանակցույց չունենալուն ։ Արդյոք գյուղի ՝ Մանիլայից 60 տոկոսը ։ - չլինելը որևէ տարբերակի պատասխանատվություն չի եղել , որ իր էջում գրել է , որ ապրիլի 22-ին ,'"
            ]
          },
          "metadata": {
            "tags": []
          },
          "execution_count": 6
        }
      ]
    },
    {
      "cell_type": "code",
      "metadata": {
        "colab": {
          "base_uri": "https://localhost:8080/",
          "height": 86
        },
        "id": "T--TQKPjsztK",
        "outputId": "376e91b0-d18a-4191-e24e-b32827f2de40"
      },
      "source": [
        "' '.join(generate_text_beam_search(['Փաշինյանի'], 50))"
      ],
      "execution_count": null,
      "outputs": [
        {
          "output_type": "execute_result",
          "data": {
            "application/vnd.google.colaboratory.intrinsic+json": {
              "type": "string"
            },
            "text/plain": [
              "'Փաշինյանի նկատմամբ հսկողության վարչության Շենգավիթ վարչական շրջանի քննչական վարչության Շենգավիթ վարչական շրջանի քննչական վարչության Շենգավիթ վարչական շրջանի քննչական վարչության Շենգավիթ վարչական շրջանի քննչական վարչության Շենգավիթ վարչական շրջանի քննչական վարչության Շենգավիթ վարչական շրջանի քննչական վարչության Շենգավիթ վարչական շրջանի քննչական վարչության Շենգավիթ վարչական շրջանի քննչական բաժնում քննվող քրեական գործից անջատված մասով նախաքննությունն ավարտվել'"
            ]
          },
          "metadata": {
            "tags": []
          },
          "execution_count": 12
        }
      ]
    },
    {
      "cell_type": "code",
      "metadata": {
        "id": "CJsaeV8sEDzl"
      },
      "source": [
        ""
      ],
      "execution_count": null,
      "outputs": []
    }
  ]
}